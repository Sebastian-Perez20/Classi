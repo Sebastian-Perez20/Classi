{
  "metadata": {
    "kernelspec": {
      "name": "python",
      "display_name": "Python (Pyodide)",
      "language": "python"
    },
    "language_info": {
      "codemirror_mode": {
        "name": "python",
        "version": 3
      },
      "file_extension": ".py",
      "mimetype": "text/x-python",
      "name": "python",
      "nbconvert_exporter": "python",
      "pygments_lexer": "ipython3",
      "version": "3.8"
    }
  },
  "nbformat_minor": 4,
  "nbformat": 4,
  "cells": [
    {
      "cell_type": "markdown",
      "source": "Data Science Tools and Ecosystem",
      "metadata": {}
    },
    {
      "cell_type": "markdown",
      "source": "In this notebook, Data Science Tools and Ecosystem are summarized.",
      "metadata": {}
    },
    {
      "cell_type": "markdown",
      "source": "Some of the popular languages that Data Scientists use are:\n```\n1. Python\n2. SQL\n3. R\n4. Java\n```",
      "metadata": {}
    },
    {
      "cell_type": "markdown",
      "source": "Some of the commonly used libraries used by Data Scientists include:\n```\n1. Numpy\n2. Scikit-learn\n3. Ploty\n4. SciPy\n```",
      "metadata": {}
    },
    {
      "cell_type": "markdown",
      "source": "|Tool | Aplication 1 | Aplication 2 | Aplication 3 |\n| ------ | ------ | ------ | ------ | \n| Data Analitycs | Python | R | Julia |\n| Machine learning | Scikit-learn | TensorFlow | Pytorch |\n| Report | Jupyter Notebook | Deepnote | Dash |",
      "metadata": {}
    },
    {
      "cell_type": "code",
      "source": "\"Below are a few examples of evaluating arithmetic expressions in Python\"\na = 1\nb = 2\nop1 = a + b\nop2 = b - a\nop3 = a * b\nop4 = a / b\n\nprint(\"Value a: \", a)\nprint(\"Value b\", b)\nprint(\"--------------\")\nprint(\"Plus: \", op1)\nprint(\"Subtrack: \", op2)\nprint(\"Multiplication: \", op3)\nprint(\"Division: \", op4)",
      "metadata": {
        "trusted": true
      },
      "outputs": [
        {
          "name": "stdout",
          "text": "Value a:  1\nValue b 2\n--------------\nPlus:  3\nSubtrack:  1\nMultiplication:  2\nDivision:  0.5\n",
          "output_type": "stream"
        }
      ],
      "execution_count": 12
    },
    {
      "cell_type": "code",
      "source": "print(\"This a simple arithmetic expression to mutiply then add integers\")\n\n(3*4)+5",
      "metadata": {
        "trusted": true
      },
      "outputs": [
        {
          "name": "stdout",
          "text": "This a simple arithmetic expression to mutiply then add integers\n",
          "output_type": "stream"
        },
        {
          "execution_count": 16,
          "output_type": "execute_result",
          "data": {
            "text/plain": "17"
          },
          "metadata": {}
        }
      ],
      "execution_count": 16
    },
    {
      "cell_type": "code",
      "source": "print(\"This will convert 200 minutes to hours by diving by 60.\")\n\nhora = 200 / 60\n\nprint(hora)\n",
      "metadata": {
        "trusted": true
      },
      "outputs": [
        {
          "name": "stdout",
          "text": "This will convert 200 minutes to hours by diving by 60.\n3.3333333333333335\n",
          "output_type": "stream"
        }
      ],
      "execution_count": 17
    },
    {
      "cell_type": "markdown",
      "source": "**Some of the popular languages that Data Scientists use are:**\n```\n1. Python\n2. SQL\n3. R\n4. Java\n```\n**Objectives**\n1. The factors that make them the most popular tools\n2. Demonstrate the skills learned from Jupyter\n3. The importance of knowing the advantages and weaknesses of each one\n4. Knowing in which situations it is best to use certain language\n5. The main goal",
      "metadata": {}
    },
    {
      "cell_type": "markdown",
      "source": "## Author \nCarlos Sebastián Pérez López",
      "metadata": {}
    },
    {
      "cell_type": "code",
      "source": "",
      "metadata": {
        "trusted": true
      },
      "outputs": [],
      "execution_count": null
    }
  ]
}